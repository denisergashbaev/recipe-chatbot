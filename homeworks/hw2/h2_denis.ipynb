{
 "cells": [
  {
   "cell_type": "code",
   "execution_count": 1,
   "metadata": {},
   "outputs": [],
   "source": [
    "import os \n",
    "import litellm\n",
    "from typing import Final\n",
    "from dotenv import load_dotenv\n",
    "from textwrap import dedent, wrap\n",
    "from pydantic import BaseModel, Field\n",
    "\n",
    "load_dotenv(override=True)\n",
    "\n",
    "\n",
    "class Dimention(BaseModel):\n",
    "    meal_type: str = Field(..., description=\"The type of meal the user is interested in, such as 'Lite breakfast', 'Brunch'\")\n",
    "    dietary_restriction: str = Field(..., description=\"The dietary restrictions the user has, such as 'Not spicy', 'without fish or meat'\")\n",
    "    preparation_time: str = Field(..., description=\"The preparation time the user is interested in, such as '10 minutes', 'something quick', 'under 1 hour'\")\n",
    "\n",
    "    @classmethod\n",
    "    def get_prompt_description(cls) -> str:\n",
    "        description = []\n",
    "        for field_name, field_info in cls.model_fields.items():\n",
    "            description.append(f\"- {field_name}: {field_info.description}\")\n",
    "        return \"\\n\".join(description)\n",
    "\n",
    "\n",
    "num_dimention_instances: Final[int] = 50\n",
    "\n",
    "\n",
    "class DimentionList(BaseModel):\n",
    "    dimention_list: list[Dimention] = Field(\n",
    "        ..., \n",
    "        description=f\"List of dimention instances, there should be {num_dimention_instances} instances in the list\", \n",
    "        default_factory=list)\n"
   ]
  },
  {
   "cell_type": "code",
   "execution_count": 3,
   "metadata": {},
   "outputs": [
    {
     "data": {
      "text/plain": [
       "'gemini/gemini-2.5-flash'"
      ]
     },
     "execution_count": 3,
     "metadata": {},
     "output_type": "execute_result"
    }
   ],
   "source": [
    "MODEL_NAME: Final[str] = os.environ[\"MODEL_NAME\"]\n",
    "MODEL_NAME"
   ]
  },
  {
   "cell_type": "code",
   "execution_count": 4,
   "metadata": {},
   "outputs": [
    {
     "name": "stdout",
     "output_type": "stream",
     "text": [
      "('gemini-2.5-flash', 'gemini', None, None)\n",
      "['temperature', 'top_p', 'max_tokens', 'max_completion_tokens', 'stream', 'tools', 'tool_choice', 'functions', 'response_format', 'n', 'stop', 'logprobs', 'frequency_penalty', 'modalities', 'parallel_tool_calls', 'web_search_options', 'reasoning_effort', 'thinking']\n"
     ]
    }
   ],
   "source": [
    "from litellm import get_supported_openai_params\n",
    "\n",
    "params = get_supported_openai_params(model=MODEL_NAME)\n",
    "\n",
    "custom_llm_provider = litellm.get_llm_provider(model=MODEL_NAME)\n",
    "\n",
    "print(custom_llm_provider)\n",
    "\n",
    "assert \"response_format\" in params\n",
    "\n",
    "print(params)\n",
    "\n",
    "from litellm import supports_response_schema\n",
    "\n",
    "assert supports_response_schema(model=MODEL_NAME)"
   ]
  },
  {
   "cell_type": "code",
   "execution_count": 7,
   "metadata": {},
   "outputs": [],
   "source": [
    "def generate_dimention_list(dimention_list: str):\n",
    "    SYSTEM_PROMPT = dedent(f\"\"\"\n",
    "        You are AI assistant that helps generate instances for dimentions of the queries that will be sent to the recipe chatbot. A dimention describes aspects of the query that that the users send to the chatbot. \n",
    "        Given following dimention types, generate tuple combinations of the dimentions\n",
    "\n",
    "        Dimentions:\n",
    "            meal_type: The type of meal the user is interested in, such as 'Lite breakfast', 'Brunch'\n",
    "            dietary_restriction: The dietary restrictions the user has, such as 'Not spicy', 'without fish or meat', 'meaty'\n",
    "            preparation_time: The preparation time the user is interested in, such as '10 minutes', 'something quick', 'under 1 hour', 'I haveall the time until retirement'\n",
    "\n",
    "        Instructions:\n",
    "            - Generate  {num_dimention_instances} tuple combinations of the dimentions.\n",
    "            - Avoid duplicates. \n",
    "            - Make sure that the tuples are diverse. \n",
    "\n",
    "        Example output:\n",
    "        - ('Lite breakfast', 'Not spicy', '10 minutes')\n",
    "        - ('Snack', 'with hummus and carrots', 'instant')\n",
    "    \"\"\")\n",
    "    completion = litellm.completion(\n",
    "        model=MODEL_NAME,\n",
    "        messages=[\n",
    "            {\"role\": \"user\", \"content\": SYSTEM_PROMPT}\n",
    "        ],\n",
    "    )\n",
    "    return completion.choices[0].message.content"
   ]
  },
  {
   "cell_type": "code",
   "execution_count": 8,
   "metadata": {},
   "outputs": [
    {
     "name": "stdout",
     "output_type": "stream",
     "text": [
      "Here are 50 diverse tuple combinations of the dimensions:\n",
      "\n",
      "1.  ('Breakfast', 'Not spicy', '10 minutes')\n",
      "2.  ('Lunch', 'Vegetarian', '30 minutes')\n",
      "3.  ('Dinner', 'Meaty', 'Under 1 hour')\n",
      "4.  ('Snack', 'Gluten-free', 'Quick')\n",
      "5.  ('Dessert', 'Dairy-free', '45 minutes')\n",
      "6.  ('Brunch', 'Vegan', 'I have all the time until retirement')\n",
      "7.  ('Appetizer', 'Low-carb', '15 minutes')\n",
      "8.  ('Side Dish', 'High-protein', '20 minutes')\n",
      "9.  ('Lite breakfast', 'Kid-friendly', 'Less than 20 minutes')\n",
      "10. ('Holiday meal', 'Pescatarian', 'All day')\n",
      "11. ('Party food', 'Sugar-free', 'About an hour')\n",
      "12. ('Quick bite', 'Nut-free', 'Instant')\n",
      "13. ('Breakfast', 'Keto', '30 minutes')\n",
      "14. ('Lunch', 'Heart-healthy', 'Under 1 hour')\n",
      "15. ('Dinner', 'Spicy', '45 minutes')\n",
      "16. ('Snack', 'without fish or meat', '10 minutes')\n",
      "17. ('Dessert', 'Meaty', 'Long prep')\n",
      "18. ('Brunch', 'Paleo', 'Quick')\n",
      "19. ('Appetizer', 'Low-salt', '15 minutes')\n",
      "20. ('Side Dish', 'Diabetic-friendly', '20 minutes')\n",
      "21. ('Lite breakfast', 'High-fiber', 'Less than 20 minutes')\n",
      "22. ('Holiday meal', 'Lactose-free', 'Overnight')\n",
      "23. ('Party food', 'Comfort food', 'About an hour')\n",
      "24. ('Quick bite', 'with hummus and carrots', 'Instant')\n",
      "25. ('Breakfast', 'Gluten-free', 'Quick and easy')\n",
      "26. ('Lunch', 'Vegan', '30 minutes')\n",
      "27. ('Dinner', 'High-protein', 'Under 1 hour')\n",
      "28. ('Snack', 'Not spicy', '10 minutes')\n",
      "29. ('Dessert', 'Vegetarian', '45 minutes')\n",
      "30. ('Brunch', 'Meaty', 'I have all the time until retirement')\n",
      "31. ('Appetizer', 'Dairy-free', '15 minutes')\n",
      "32. ('Side Dish', 'Low-carb', '20 minutes')\n",
      "33. ('Lite breakfast', 'Pescatarian', 'Less than 20 minutes')\n",
      "34. ('Holiday meal', 'Kid-friendly', 'All day')\n",
      "35. ('Party food', 'Nut-free', 'About an hour')\n",
      "36. ('Quick bite', 'Sugar-free', 'Instant')\n",
      "37. ('Breakfast', 'Spicy', 'Quick and easy')\n",
      "38. ('Lunch', 'Keto', '30 minutes')\n",
      "39. ('Dinner', 'Heart-healthy', 'Under 1 hour')\n",
      "40. ('Snack', 'Low-salt', '10 minutes')\n",
      "41. ('Dessert', 'Diabetic-friendly', '45 minutes')\n",
      "42. ('Brunch', 'High-fiber', 'Long prep')\n",
      "43. ('Appetizer', 'Lactose-free', '15 minutes')\n",
      "44. ('Side Dish', 'Comfort food', '20 minutes')\n",
      "45. ('Lite breakfast', 'Paleo', 'Less than 20 minutes')\n",
      "46. ('Holiday meal', 'with hummus and carrots', 'Overnight')\n",
      "47. ('Party food', 'Not spicy', 'About an hour')\n",
      "48. ('Quick bite', 'Vegetarian', 'Instant')\n",
      "49. ('Dinner', 'Gluten-free', '10 minutes')\n",
      "50. ('Lunch', 'Meaty', 'something quick')\n"
     ]
    }
   ],
   "source": [
    "dimention_list = generate_dimention_list(\"\")\n",
    "\n",
    "print(dimention_list)\n"
   ]
  }
 ],
 "metadata": {
  "kernelspec": {
   "display_name": ".venv",
   "language": "python",
   "name": "python3"
  },
  "language_info": {
   "codemirror_mode": {
    "name": "ipython",
    "version": 3
   },
   "file_extension": ".py",
   "mimetype": "text/x-python",
   "name": "python",
   "nbconvert_exporter": "python",
   "pygments_lexer": "ipython3",
   "version": "3.12.8"
  }
 },
 "nbformat": 4,
 "nbformat_minor": 2
}
